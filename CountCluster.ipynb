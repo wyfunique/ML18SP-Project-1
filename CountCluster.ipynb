{
 "cells": [
  {
   "cell_type": "code",
   "execution_count": 1,
   "metadata": {
    "collapsed": true
   },
   "outputs": [],
   "source": [
    "import scipy.io as sio\n",
    "fileName = \"ImsAndTruths2092.mat\"\n",
    "imsAndSeg = sio.loadmat(fileName)\n",
    "img = imsAndSeg.get('Im')\n",
    "ground_truth1 = imsAndSeg.get('Seg1')\n",
    "ground_truth2 = imsAndSeg.get('Seg2')\n",
    "ground_truth3 = imsAndSeg.get('Seg3')"
   ]
  },
  {
   "cell_type": "code",
   "execution_count": null,
   "metadata": {
    "collapsed": true
   },
   "outputs": [],
   "source": [
    "ground_"
   ]
  }
 ],
 "metadata": {
  "kernelspec": {
   "display_name": "Python 2",
   "language": "python",
   "name": "python2"
  },
  "language_info": {
   "codemirror_mode": {
    "name": "ipython",
    "version": 2
   },
   "file_extension": ".py",
   "mimetype": "text/x-python",
   "name": "python",
   "nbconvert_exporter": "python",
   "pygments_lexer": "ipython2",
   "version": "2.7.14"
  }
 },
 "nbformat": 4,
 "nbformat_minor": 2
}
